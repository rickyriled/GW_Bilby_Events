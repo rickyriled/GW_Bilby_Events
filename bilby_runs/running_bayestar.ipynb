{
 "cells": [
  {
   "cell_type": "markdown",
   "id": "9eeff8ee",
   "metadata": {},
   "source": [
    "# Bayestar Code for followup \n",
    "\n",
    "The below code is composed of two pieces \n",
    "\n",
    "1. do_bayestar_run\n",
    "Do bayestar run performs takes in ra/dec in radians in the range (-pi, pi), (-pi/2, pi/2), and then performs a byaestar run on that locaiton. It begins by using the OS module to call a lalapps_inspinj command that generates a parameter space given your inputs. Then, bayestar_coincs is called to build the space of waveforms off of the space of parameters you previously specified.  Bayestar_realize_coincs is then called to perform match filtering throughout the given space of waveforms, building the data needed to form a sky localization region for the waveforms. The last calls then create an image plot that dispalys the localization region\n",
    "\n",
    "NOTE: to run this code, you need to have your current directory send to a dir which contains the 'correct_psd.xml' file which ghosh was able to get his hands on\n",
    "\n",
    "\n",
    "2. return_percentile_index\n",
    "Given a set of healpy data and a percentile, this code finds the pixel which corresponds to the percentile; this 'correspondence' is found by first linearing ordering the values of the healpy data, and summing over the pixels until the sum equals the sepcified percentile value. The pixel this corresponds to is then reutrned.\n",
    "\n",
    "\n",
    "outisde of that, there is one more block of code which (A) takes in some pre-genereated fits files by the 'do_bayestar_run' code (B) generates the healpy data corresponding to it (C) gets the specified percentile pixel through the 'return_percentile_index' code, and (d) returns the correct right ascension and declination positions corresponding to that pixel. The RA/DEC values are returned in degrees in bayestar format (e.g.  (-180, 180), (-90, 90)) . To convert this format back to the bilby format, we have to add 180 degrees to the right ascension value. \n"
   ]
  },
  {
   "cell_type": "code",
   "execution_count": 47,
   "id": "c40ef18b",
   "metadata": {},
   "outputs": [],
   "source": [
    "#import np/matplotlin/healpy/os/bilby/astropy stuff\n",
    "import matplotlib.pyplot as plt\n",
    "%matplotlib inline\n",
    "import numpy as np\n",
    "import healpy as hp\n",
    "import os\n",
    "import bilby as bby\n",
    "from astropy.io import fits\n",
    "import json\n",
    "\n",
    "#function to read in skymap localization regions from fits files  \n",
    "from ligo.skymap.io.fits import read_sky_map\n",
    "from ligo.skymap.tool import ArgumentParser, FileType, register_to_xmldoc\n",
    "\n",
    "#angular distance function\n",
    "from PyAstronomy import pyasl\n",
    "\n",
    "import argparse\n",
    "from argparse import SUPPRESS\n",
    "\n",
    "import lal\n",
    "\n",
    "import json"
   ]
  },
  {
   "cell_type": "code",
   "execution_count": 56,
   "id": "5f3bf6ef",
   "metadata": {},
   "outputs": [],
   "source": [
    "def do_bayestar_run(ra_input,dec_input):\n",
    "    '''provide a ra/dec in radians in the range (-pi, pi), (-pi/2, pi/2)'''\n",
    "    #formats ra/dec for file names\n",
    "    ra_0=float('{:.2f}'.format(ra_input))\n",
    "    dec_0=float('{:.2f}'.format(dec_input))\n",
    "\n",
    "    #converts ra/dec to degrees for file parameter inputs\n",
    "    ra_dg=np.rad2deg(float('{:.2f}'.format(ra_0)))\n",
    "    dec_dg=np.rad2deg(float('{:.2f}'.format(dec_0)))\n",
    "\n",
    "    print(ra_0,dec_0,\"  \",ra_dg,dec_dg)\n",
    "    \n",
    "    os.system(\"lalapps_inspinj \\\n",
    "        `# Write output to inj.xml.` \\\n",
    "        -o inj_{}_{}_50mpc.xml \\\n",
    "        `# Mass injection.` \\\n",
    "        `# In this example, the masses are pinned to 1.3 and 1.4 Msun.` \\\n",
    "        --m-distr fixMasses --fixed-mass1 1.5 --fixed-mass2 1.8 \\\n",
    "        `# sky location injection.` \\\n",
    "        --l-distr fixed --longitude {} --latitude {} \\\n",
    "        `# Distance distribution: uniform in Euclidean volume.` \\\n",
    "        `# WARNING: distances are in kpc.` \\\n",
    "        --d-distr volume \\\n",
    "        --min-distance 50000 --max-distance 50000 \\\n",
    "        `# Coalescence time distribution: adjust time step, start, and stop` \\\n",
    "        `# polarization (psi)` \\\n",
    "        --polarization  0 \\\n",
    "        `# Inclination angle (theta_jn)` \\\n",
    "        --i-distr  fixed --fixed-inc 85.943 \\\n",
    "        `# phase (phase)` \\\n",
    "        --fixed-coa-phase 57.295 \\\n",
    "        `# time to control the number of injections.` \\\n",
    "        --time-step 7200 \\\n",
    "        --gps-start-time 1264079176 \\\n",
    "        --gps-end-time 1264069576 \\\n",
    "        `# Distance distribution: uniform in Euclidean volume.` \\\n",
    "        `# Write a table of CBC injections to inj.xml.` \\\n",
    "        --f-lower 20 --disable-spin \\\n",
    "        --waveform TaylorF2threePointFivePN\".format(ra_0,dec_0,ra_dg,dec_dg))\n",
    "\n",
    "    print(\"#1\")\n",
    "\n",
    "    os.system(\"bayestar-realize-coincs \\\n",
    "        `# Write output to coinc.xml.` \\\n",
    "        -o coinc_{}_{}_50mpc.xml \\\n",
    "        `# Use the injections and noise PSDs that we generated.` \\\n",
    "        inj_{}_{}_50mpc.xml --reference-psd correct_psd.xml \\\n",
    "        `# Specify which detectors are in science mode.` \\\n",
    "        --detector H1 L1 V1 \\\n",
    "        `# Optionally, add Gaussian noise (rather than zero noise).` \\\n",
    "        --measurement-error gaussian-noise \\\n",
    "        `# Optionally, adjust the detection threshold: single-detector` \\\n",
    "        `# SNR, network SNR, and minimum number of detectors above` \\\n",
    "        `# threshold to form a coincidence.` \\\n",
    "        --snr-threshold 4.0 \\\n",
    "        --net-snr-threshold 12.0 \\\n",
    "        --min-triggers 2 \\\n",
    "        `# Optionally, save triggers that were below the single-detector` \\\n",
    "        `# threshold.` \\\n",
    "        --keep-subthreshold\".format(ra_0,dec_0,ra_0,dec_0))\n",
    "\n",
    "    print(\"#2\")\n",
    "\n",
    "    os.system(\"bayestar-localize-coincs coinc_{}_{}_50mpc.xml\".format(ra_0, dec_0))\n",
    "    \n",
    "    print(\"#3\")\n",
    "    if (os.path.exists('0.fits')):\n",
    "        os.system(\"mv 0.fits skymap_{}_{}_50mpc.fits\".format(ra_0,dec_0))\n",
    "\n",
    "        print(\"#4\")\n",
    "\n",
    "        os.system(\"ligo-skymap-plot skymap_{}_{}_50mpc.fits -o skymap_{}_{}_50mpc.png --annotate --contour 90 95\".format(ra_0,dec_0,ra_0,dec_0))\n",
    "\n",
    "        print(\"#5\")\n",
    "    else:\n",
    "        print('fits file not generated')"
   ]
  },
  {
   "cell_type": "code",
   "execution_count": 53,
   "id": "6cbd2f12",
   "metadata": {},
   "outputs": [],
   "source": [
    "#get the index location for the cumulative sum of \n",
    "# ordered hpdata\n",
    "def return_percentile_index(hpdata, percent):\n",
    "    ordered_hpdata=hpdata.copy()\n",
    "    sigma=np.flip(np.argsort(ordered_hpdata))\n",
    "    ordered_hpdata=ordered_hpdata[sigma]\n",
    "\n",
    "    prob=0\n",
    "    index=0\n",
    "    while (prob<percent):\n",
    "        prob+=ordered_hpdata[index]\n",
    "        index+=1\n",
    "\n",
    "    index-=1\n",
    "\n",
    "    loc=sigma[index]\n",
    "\n",
    "    return loc\n",
    "    "
   ]
  },
  {
   "cell_type": "code",
   "execution_count": 54,
   "id": "361d18ef",
   "metadata": {},
   "outputs": [],
   "source": [
    "#specify your ra/dec\n",
    "your_ra=0.4\n",
    "your_dec=0.73\n",
    "\n",
    "bay_ra=your_ra-np.pi\n",
    "bay_dec=your_dec"
   ]
  },
  {
   "cell_type": "code",
   "execution_count": 57,
   "id": "1b5d7ca4",
   "metadata": {
    "scrolled": true
   },
   "outputs": [
    {
     "name": "stdout",
     "output_type": "stream",
     "text": [
      "-2.74 0.73    -156.99043586584557 41.8259190445501\n",
      "#1\n",
      "#2\n",
      "#3\n",
      "#4\n",
      "#5\n"
     ]
    }
   ],
   "source": [
    "do_bayestar_run(bay_ra, bay_dec)"
   ]
  },
  {
   "cell_type": "code",
   "execution_count": 61,
   "id": "e047275b",
   "metadata": {},
   "outputs": [
    {
     "name": "stdout",
     "output_type": "stream",
     "text": [
      "coinc_-0.9_1.35_75mpc.xml    skymap_-0.9_1.35_75mpc.fits\r\n",
      "inj_-0.9_1.35_75mpc.xml      skymap_-0.9_1.35_75mpc.png\r\n"
     ]
    }
   ],
   "source": [
    "ls"
   ]
  },
  {
   "cell_type": "code",
   "execution_count": 62,
   "id": "5fa9f9da",
   "metadata": {},
   "outputs": [
    {
     "name": "stdout",
     "output_type": "stream",
     "text": [
      " \n",
      "name:  skymap_-0.9_1.35_75mpc.fits\n",
      "index:  545713\n",
      "ra:  -51.46551724137933\n",
      "dec:  78.05449794559584\n",
      " \n"
     ]
    }
   ],
   "source": [
    "skymap_list=['skymap_-0.9_1.35_75mpc.fits']\n",
    "\n",
    "for fits_file in skymap_list:\n",
    "    \n",
    "    #reads in flattened fits file\n",
    "    #e.g. get healpy probability/ sky location data\n",
    "    hpdata, header = read_sky_map(fits_file)\n",
    "    \n",
    "    #set up co-ordinates based on hpdata\n",
    "    #(e.g. for a given hpdata, get ra/dec coordinate array)\n",
    "    npix=len(hpdata)\n",
    "    nside=hp.npix2nside(npix)\n",
    "    theta, phi= hp.pix2ang(nside, np.arange(npix))\n",
    "    dec_hp = np.rad2deg(np.pi/2-theta)\n",
    "    ra_hp = np.rad2deg(phi-2*np.pi)\n",
    "    \n",
    "    #get array-space index\n",
    "    index=return_percentile_index(hpdata,0.925)  #put p% here\n",
    "\n",
    "    #prints info about current fits_file p% index\n",
    "    print(\" \")\n",
    "    print(\"name: \", fits_file)\n",
    "    print(\"index: \",index)\n",
    "    print(\"ra: \",ra_hp[index])\n",
    "    print(\"dec: \", dec_hp[index])\n",
    "    print(\" \")"
   ]
  },
  {
   "cell_type": "code",
   "execution_count": 65,
   "id": "1c6965e2",
   "metadata": {},
   "outputs": [
    {
     "name": "stdout",
     "output_type": "stream",
     "text": [
      "RA|    true:  2.239  |  followup:  2.2433499264858145\n",
      "DEC|   true:  1.346  |  followup:  1.3623079851417972\n",
      "angular distance:  6.541056682141486  | in radians:  0.1141629756629451\n"
     ]
    }
   ],
   "source": [
    "print('RA|    true: ', 2.239, ' |  followup: ', np.deg2rad(-51.46551724137933)+np.pi) \n",
    "\n",
    "print('DEC|   true: ', 1.346, ' |  followup: ', np.deg2rad(78.05449794559584)) \n",
    "\n",
    "angdist = pyasl.getAngDist(274.130859375, -5.360645802724182,\n",
    "                 277.88453063844923, 0.0)\n",
    "\n",
    "print('angular distance: ',angdist, ' | in radians: ' ,angdist*np.pi/180)"
   ]
  },
  {
   "cell_type": "code",
   "execution_count": 13,
   "id": "c7143513",
   "metadata": {},
   "outputs": [
    {
     "data": {
      "text/plain": [
       "274.130859375"
      ]
     },
     "execution_count": 13,
     "metadata": {},
     "output_type": "execute_result"
    }
   ],
   "source": [
    "-265.01220703125+3*180"
   ]
  },
  {
   "cell_type": "code",
   "execution_count": null,
   "id": "145786f9",
   "metadata": {},
   "outputs": [],
   "source": [
    "bby.gw.conversion.component_masses_to_mass_ratio(1.4,1.3)\n",
    "\n",
    "bby.gw.conversion.component_masses_to_chirp_mass(1.4,1.3)\n",
    "\n",
    "pyasl.getAngDist(r, d, ra_hp[max_index], dec_hp[max_index])\n",
    "\n",
    "q=bby.gw.conversion.component_masses_to_chirp_mass(1.8012,1.5004)\n",
    "r=bby.gw.conversion.component_masses_to_mass_ratio(1.8012,1.5004)\n",
    "print('chirp: ', q, \"| ratio: \",r)"
   ]
  },
  {
   "cell_type": "code",
   "execution_count": 12,
   "id": "61edc55e",
   "metadata": {},
   "outputs": [
    {
     "data": {
      "text/plain": [
       "89.99999999999999"
      ]
     },
     "execution_count": 12,
     "metadata": {},
     "output_type": "execute_result"
    }
   ],
   "source": [
    "pyasl.getAngDist(0, 0, 0, 90)"
   ]
  },
  {
   "cell_type": "code",
   "execution_count": 26,
   "id": "1931ee8f",
   "metadata": {},
   "outputs": [
    {
     "data": {
      "text/plain": [
       "array([5.93794553e-14, 4.81901925e-18, 7.58288455e-19, ...,\n",
       "       4.74397435e-20, 5.99461340e-20, 2.07296221e-19])"
      ]
     },
     "execution_count": 26,
     "metadata": {},
     "output_type": "execute_result"
    }
   ],
   "source": [
    "hpdata"
   ]
  },
  {
   "cell_type": "code",
   "execution_count": 30,
   "id": "e15a685d",
   "metadata": {},
   "outputs": [
    {
     "data": {
      "text/plain": [
       "array([ 89.97715732,  89.97715732,  89.97715732, ..., -89.97715732,\n",
       "       -89.97715732, -89.97715732])"
      ]
     },
     "execution_count": 30,
     "metadata": {},
     "output_type": "execute_result"
    }
   ],
   "source": [
    "dec_hp"
   ]
  },
  {
   "cell_type": "code",
   "execution_count": 33,
   "id": "f5834a7c",
   "metadata": {},
   "outputs": [
    {
     "data": {
      "text/plain": [
       "array([-315., -225., -135., ..., -225., -135.,  -45.])"
      ]
     },
     "execution_count": 33,
     "metadata": {},
     "output_type": "execute_result"
    }
   ],
   "source": [
    "ra_hp"
   ]
  },
  {
   "cell_type": "code",
   "execution_count": 59,
   "id": "51166f22",
   "metadata": {},
   "outputs": [
    {
     "data": {
      "text/plain": [
       "0"
      ]
     },
     "execution_count": 59,
     "metadata": {},
     "output_type": "execute_result"
    }
   ],
   "source": [
    "os.system(\"ligo-skymap-plot skymap_-2.74_0.73_50mpc.fits -o skymap_-2.74_0.73_50mpc.png --annotate --contour 90 95\")"
   ]
  },
  {
   "cell_type": "code",
   "execution_count": null,
   "id": "5b041b2a",
   "metadata": {},
   "outputs": [],
   "source": []
  }
 ],
 "metadata": {
  "kernelspec": {
   "display_name": "summer",
   "language": "python",
   "name": "summer"
  },
  "language_info": {
   "codemirror_mode": {
    "name": "ipython",
    "version": 3
   },
   "file_extension": ".py",
   "mimetype": "text/x-python",
   "name": "python",
   "nbconvert_exporter": "python",
   "pygments_lexer": "ipython3",
   "version": "3.8.10"
  }
 },
 "nbformat": 4,
 "nbformat_minor": 5
}
