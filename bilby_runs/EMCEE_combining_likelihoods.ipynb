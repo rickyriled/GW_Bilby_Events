{
 "cells": [
  {
   "cell_type": "code",
   "execution_count": null,
   "id": "57c9c1f5",
   "metadata": {},
   "outputs": [],
   "source": [
    "import os\n",
    "from matplotlib import pyplot\n",
    "%matplotlib inline\n",
    "import numpy as np\n",
    "import seaborn as sns\n",
    "import json \n",
    "import pickle\n",
    "import bilby\n",
    "import get_bilby_data as gbd\n",
    "from sklearn.neighbors import KernelDensity\n",
    "import random"
   ]
  },
  {
   "cell_type": "code",
   "execution_count": null,
   "id": "77191732",
   "metadata": {},
   "outputs": [],
   "source": [
    "# lets compare our KDEs to our sample data \n",
    "\n",
    "\n",
    "inj_H0=72    #true H0\n",
    "c=299792.45\n",
    "\n",
    "data_copy=np.array(lum_dist)  #copy over data\n",
    "h0_data=c*zt/data_copy        #convert distance samples to H0 samples \n",
    "\n",
    "pyplot.rcParams.update({'font.size': 18})\n",
    "pyplot.figure(figsize=(12,10))\n",
    "\n",
    "pyplot.plot(H0_axis,H0_GW_posterior, alpha=1,color=(1,0,0))  #plot KDE\n",
    "pyplot.hist(h0_data, bins=200, alpha=0.4, density=True);     #plot h0_data\n",
    "ax = pyplot.gca()\n",
    "ylim = ax.get_ylim()\n",
    "pyplot.plot([inj_H0, inj_H0], ylim, 'r--')\n",
    "pyplot.ylim(ylim)\n",
    "pyplot.show()"
   ]
  },
  {
   "cell_type": "markdown",
   "id": "0f56c4a8",
   "metadata": {},
   "source": [
    "# Sampling distributions"
   ]
  },
  {
   "cell_type": "code",
   "execution_count": null,
   "id": "3f8613aa",
   "metadata": {},
   "outputs": [],
   "source": [
    "import numpy as np\n",
    "import pylab as pl\n",
    "import scipy\n",
    "from scipy.stats import gaussian_kde\n",
    "import emcee"
   ]
  },
  {
   "cell_type": "code",
   "execution_count": null,
   "id": "5dfb9f5c",
   "metadata": {},
   "outputs": [],
   "source": [
    "#Using Ghoshs sampling code\n",
    "class H0Likelihoods:\n",
    "    def __init__(self, distance_samples, z, H0, sigma):\n",
    "        self.z = z\n",
    "        self.H0 = H0\n",
    "        self.sigma = sigma\n",
    "        self.c = 2.997e8\n",
    "        \n",
    "        self.posterior_kde = gaussian_kde(z*c/distance_samples)\n",
    "        self.prior = scipy.stats.norm(loc=self.H0, scale=self.sigma)\n",
    "\n",
    "\n",
    "    def prior_val(self, d):\n",
    "        return  self.prior.pdf(d)\n",
    "\n",
    "\n",
    "    def likelihood_func(self, H0):\n",
    "        \"\"\"\n",
    "            This function takes the value of H0 and the redshift, computes\n",
    "        the corresponding luminosity distance then used the KDE of the\n",
    "        posterior and the priors to figure out the likelihood value at\n",
    "        that point\n",
    "        \"\"\"\n",
    "        \n",
    "        posterior = self.posterior_kde.evaluate(H0)\n",
    "        prior = self.prior_val(H0)\n",
    "        likelihood = posterior/prior\n",
    "        \n",
    "        return likelihood\n"
   ]
  },
  {
   "cell_type": "code",
   "execution_count": null,
   "id": "6458fa81",
   "metadata": {},
   "outputs": [],
   "source": [
    "distance_data=np.array(lum_dist)\n",
    "H0 = np.linspace(1, 1000, 10000)\n",
    "H0_LObj = H0Likelihoods(distance_data, zt, H0_true, 5)\n",
    "LIKLYHD = H0_LObj .likelihood_func(H0)"
   ]
  },
  {
   "cell_type": "code",
   "execution_count": null,
   "id": "0e27ff39",
   "metadata": {},
   "outputs": [],
   "source": [
    "pyplot.rcParams.update({'font.size': 18})\n",
    "pyplot.figure(figsize=(10,8))\n",
    "pyplot.plot(H0, H0_LObj.posterior_kde.evaluate(H0), label=\"Event: 1\")\n",
    "ax = pl.gca()\n",
    "ylim = ax.get_ylim()\n",
    "pyplot.plot([H0_true, H0_true], ylim, 'r', linewidth=4)"
   ]
  },
  {
   "cell_type": "code",
   "execution_count": null,
   "id": "b812c70d",
   "metadata": {},
   "outputs": [],
   "source": [
    "from scipy.interpolate import interp1d\n",
    "\n",
    "f = interp1d(H0, LIKLYHD)"
   ]
  },
  {
   "cell_type": "code",
   "execution_count": null,
   "id": "b897921f",
   "metadata": {},
   "outputs": [],
   "source": [
    "pl.rcParams.update({'font.size': 18})\n",
    "pl.figure(figsize=(10,8))\n",
    "pl.plot(H0, LIKLYHD, label=\"Joint - scaled down\")\n",
    "x = np.linspace(1, 1000, 10000)\n",
    "pl.plot(x, f(x), 'r--')\n",
    "pl.legend()"
   ]
  },
  {
   "cell_type": "code",
   "execution_count": null,
   "id": "d38470df",
   "metadata": {},
   "outputs": [],
   "source": [
    "def log_likelihood(H0):\n",
    "    \n",
    "    #test if H0 out of bounds\n",
    "    if (H0 <= 0) or (H0 > 1000):\n",
    "        return -np.infty\n",
    "    \n",
    "    #calculate likelihood\n",
    "    L = f(H0)\n",
    "    \n",
    "    #test if likelihood out of log boundaries \n",
    "    if L <= 0:\n",
    "        return -np.infty\n",
    "    \n",
    "    # else return log of likelihood\n",
    "    logL = np.log(L)\n",
    "    return logL  \n",
    "\n",
    "\n",
    "def log_prior(H0):\n",
    "    if (H0 <= 0) or (H0 > 1000):\n",
    "        return -np.infty\n",
    "    return 0     #why? <-------------------------- i think just for testing\n",
    "\n",
    "\n",
    "def log_posterior(H0):\n",
    "    lp = log_prior(H0)\n",
    "    if not np.isfinite(lp):\n",
    "        return -np.inf\n",
    "    return lp + log_likelihood(H0)"
   ]
  },
  {
   "cell_type": "code",
   "execution_count": null,
   "id": "a135a459",
   "metadata": {},
   "outputs": [],
   "source": [
    "ndim=1\n",
    "nwalkers = 2\n",
    "\n",
    "np.random.seed(42)\n",
    "sampler = emcee.EnsembleSampler(nwalkers, ndim, log_posterior)\n",
    "\n",
    "p0 = np.random.rand(nwalkers, ndim)\n",
    "state = sampler.run_mcmc(p0, 100)\n",
    "\n",
    "sampler.reset()\n",
    "x=sampler.run_mcmc(state, 1000000);"
   ]
  },
  {
   "cell_type": "code",
   "execution_count": null,
   "id": "50efb74e",
   "metadata": {},
   "outputs": [],
   "source": [
    "t = sampler.get_autocorr_time()\n",
    "print(t)"
   ]
  },
  {
   "cell_type": "code",
   "execution_count": null,
   "id": "74f61eb7",
   "metadata": {},
   "outputs": [],
   "source": [
    "flat_samples = sampler.get_chain(discard=100, thin=15, flat=True)"
   ]
  }
 ],
 "metadata": {
  "kernelspec": {
   "display_name": "summer",
   "language": "python",
   "name": "summer"
  },
  "language_info": {
   "codemirror_mode": {
    "name": "ipython",
    "version": 3
   },
   "file_extension": ".py",
   "mimetype": "text/x-python",
   "name": "python",
   "nbconvert_exporter": "python",
   "pygments_lexer": "ipython3",
   "version": "3.8.10"
  }
 },
 "nbformat": 4,
 "nbformat_minor": 5
}
